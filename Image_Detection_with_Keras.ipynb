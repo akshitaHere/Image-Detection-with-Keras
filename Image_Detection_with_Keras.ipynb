{
  "nbformat": 4,
  "nbformat_minor": 0,
  "metadata": {
    "kernelspec": {
      "display_name": "Python 3",
      "language": "python",
      "name": "python3"
    },
    "language_info": {
      "codemirror_mode": {
        "name": "ipython",
        "version": 3
      },
      "file_extension": ".py",
      "mimetype": "text/x-python",
      "name": "python",
      "nbconvert_exporter": "python",
      "pygments_lexer": "ipython3",
      "version": "3.6.5"
    },
    "colab": {
      "provenance": [],
      "collapsed_sections": [
        "XOFLazPNx-i3"
      ]
    }
  },
  "cells": [
    {
      "cell_type": "markdown",
      "metadata": {
        "id": "9rypjK8jx-iz"
      },
      "source": [
        "## Handwritten Image Detection with Keras using MNIST and Fashion MNIST data\n",
        "\n",
        "In this exercise we will work with image data: specifically the famous MNIST and Fashion MNIST data sets.  MNIST data set contains 70,000 images of handwritten digits in grayscale (0=black, 255 = white). Fashion MNIST data set contains 70,000 images of clothing in grayscale (0=black, 255 = white). All the images are 28 pixels by 28 pixels for a total of 784 pixels.  This is quite small by image standards.  Also, the images are well centered and isolated.  This makes this problem solvable with standard fully connected neural nets without too much pre-work. <br><br>\n",
        "We will use a Convolutional Neural Network and compare it with a linear neural network."
      ]
    },
    {
      "cell_type": "markdown",
      "metadata": {
        "id": "NoC94vdsx-i0"
      },
      "source": [
        "In the first part of this notebook, we will walk you through loading in the data, building a network, and training it.  Then it will be your turn to try different models."
      ]
    },
    {
      "cell_type": "code",
      "metadata": {
        "id": "8Ck5lhxGx-i0"
      },
      "source": [
        "# Preliminaries\n",
        "\n",
        "from __future__ import print_function\n",
        "\n",
        "import keras\n",
        "import tensorflow as tf\n",
        "from keras.datasets import mnist\n",
        "from keras.models import Sequential\n",
        "from keras.layers import Dense, Dropout, Conv2D, MaxPooling2D, Flatten\n",
        "from tensorflow.keras.optimizers import RMSprop\n",
        "from keras.datasets import fashion_mnist\n",
        "\n",
        "import numpy as np\n",
        "import matplotlib.pyplot as plt\n",
        "%matplotlib inline"
      ],
      "execution_count": null,
      "outputs": []
    },
    {
      "cell_type": "markdown",
      "metadata": {
        "collapsed": true,
        "id": "CmUN9IMvx-i0"
      },
      "source": [
        "Let's explore the dataset a little bit"
      ]
    },
    {
      "cell_type": "code",
      "metadata": {
        "id": "VwVaw1-6x-i1"
      },
      "source": [
        "# Load the data, shuffled and split between train and test sets\n",
        "(x_train, y_train), (x_test, y_test) = mnist.load_data()"
      ],
      "execution_count": null,
      "outputs": []
    },
    {
      "cell_type": "code",
      "metadata": {
        "colab": {
          "base_uri": "https://localhost:8080/"
        },
        "id": "BP_aWuYBx-i1",
        "outputId": "2a3e8cec-8212-4c15-8f88-49b300c65380"
      },
      "source": [
        "x_train.shape"
      ],
      "execution_count": null,
      "outputs": [
        {
          "output_type": "execute_result",
          "data": {
            "text/plain": [
              "(60000, 28, 28)"
            ]
          },
          "metadata": {},
          "execution_count": 62
        }
      ]
    },
    {
      "cell_type": "code",
      "metadata": {
        "colab": {
          "base_uri": "https://localhost:8080/"
        },
        "id": "_ErVi3zwx-i1",
        "outputId": "b0b771dc-d7c6-4841-c8ea-77d669c9d21c"
      },
      "source": [
        "#Let's just look at a particular example to see what is inside\n",
        "\n",
        "x_train[333]  ## Just a 28 x 28 numpy array of ints from 0 to 255"
      ],
      "execution_count": null,
      "outputs": [
        {
          "output_type": "execute_result",
          "data": {
            "text/plain": [
              "array([[  0,   0,   0,   0,   0,   0,   0,   0,   0,   0,   0,   0,   0,\n",
              "          0,   0,   0,   0,   0,   0,   0,   0,   0,   0,   0,   0,   0,\n",
              "          0,   0],\n",
              "       [  0,   0,   0,   0,   0,   0,   0,   0,   0,   0,   0,   0,   0,\n",
              "          0,   0,   0,   0,   0,   0,   0,   0,   0,   0,   0,   0,   0,\n",
              "          0,   0],\n",
              "       [  0,   0,   0,   0,   0,   0,   0,   0,   0,   0,   0,   0,   0,\n",
              "          0,   0,   0,   0,   0,   0,   0,   0,   0,   0,   0,   0,   0,\n",
              "          0,   0],\n",
              "       [  0,   0,   0,   0,   0,   0,   0,   0,   0,   0,   0,   0,   0,\n",
              "          0,   0,   0,   0,   0,   0,   0,   0,   0,   0,   0,   0,   0,\n",
              "          0,   0],\n",
              "       [  0,   0,   0,   0,   0,   0,   0,   0,   0,   0,   0,   0,   0,\n",
              "          0,   0,   0,   0,   0,   0,   0,   0,   0,   0,   0,   0,   0,\n",
              "          0,   0],\n",
              "       [  0,   0,   0,   0,   0,   0,   0,   0,   0,   0,   0,  87, 138,\n",
              "        170, 253, 201, 244, 212, 222, 138,  86,  22,   0,   0,   0,   0,\n",
              "          0,   0],\n",
              "       [  0,   0,   0,   0,   0,   0,   0,   0,   0,   0,  95, 253, 252,\n",
              "        252, 252, 252, 253, 252, 252, 252, 252, 245,  80,   0,   0,   0,\n",
              "          0,   0],\n",
              "       [  0,   0,   0,   0,   0,   0,   0,   0,   0,  68, 246, 205,  69,\n",
              "         69,  69,  69,  69,  69,  69,  69, 205, 253, 240,  50,   0,   0,\n",
              "          0,   0],\n",
              "       [  0,   0,   0,   0,   0,   0,   0,   0,   0, 187, 252, 218,  34,\n",
              "          0,   0,   0,   0,   0,   0,   0, 116, 253, 252,  69,   0,   0,\n",
              "          0,   0],\n",
              "       [  0,   0,   0,   0,   0,   0,   0,   0, 116, 248, 252, 253,  92,\n",
              "          0,   0,   0,   0,   0,   0,  95, 230, 253, 157,   6,   0,   0,\n",
              "          0,   0],\n",
              "       [  0,   0,   0,   0,   0,   0,   0,   0, 116, 249, 253, 189,  42,\n",
              "          0,   0,   0,   0,  36, 170, 253, 243, 158,   0,   0,   0,   0,\n",
              "          0,   0],\n",
              "       [  0,   0,   0,   0,   0,   0,   0,   0,   0, 133, 252, 245, 140,\n",
              "         34,   0,   0,  57, 219, 252, 235,  60,   0,   0,   0,   0,   0,\n",
              "          0,   0],\n",
              "       [  0,   0,   0,   0,   0,   0,   0,   0,   0,  25, 205, 253, 252,\n",
              "        234, 184, 184, 253, 240, 100,  44,   0,   0,   0,   0,   0,   0,\n",
              "          0,   0],\n",
              "       [  0,   0,   0,   0,   0,   0,   0,   0,   0,   0,  21, 161, 219,\n",
              "        252, 252, 252, 234,  37,   0,   0,   0,   0,   0,   0,   0,   0,\n",
              "          0,   0],\n",
              "       [  0,   0,   0,   0,   0,   0,   0,   0,   0,   0,   0,  11, 203,\n",
              "        252, 252, 252, 251, 135,   0,   0,   0,   0,   0,   0,   0,   0,\n",
              "          0,   0],\n",
              "       [  0,   0,   0,   0,   0,   0,   0,   0,   0,   9,  76, 255, 253,\n",
              "        205, 168, 220, 255, 253, 137,   5,   0,   0,   0,   0,   0,   0,\n",
              "          0,   0],\n",
              "       [  0,   0,   0,   0,   0,   0,   0,   0,   0, 114, 252, 249, 132,\n",
              "         25,   0,   0, 180, 252, 252,  45,   0,   0,   0,   0,   0,   0,\n",
              "          0,   0],\n",
              "       [  0,   0,   0,   0,   0,   0,   0,   0,  51, 220, 252, 199,   0,\n",
              "          0,   0,   0,  38, 186, 252, 154,   7,   0,   0,   0,   0,   0,\n",
              "          0,   0],\n",
              "       [  0,   0,   0,   0,   0,   0,   0,   0, 184, 252, 252,  21,   0,\n",
              "          0,   0,   0,   0,  67, 252, 252,  22,   0,   0,   0,   0,   0,\n",
              "          0,   0],\n",
              "       [  0,   0,   0,   0,   0,   0,   0,   0, 184, 252, 200,   0,   0,\n",
              "          0,   0,   0,   0,  47, 252, 252,  22,   0,   0,   0,   0,   0,\n",
              "          0,   0],\n",
              "       [  0,   0,   0,   0,   0,   0,   0,   0, 185, 253, 201,   0,   0,\n",
              "          0,   0,   0,   3, 118, 253, 245,  21,   0,   0,   0,   0,   0,\n",
              "          0,   0],\n",
              "       [  0,   0,   0,   0,   0,   0,   0,   0, 163, 252, 252,   0,   0,\n",
              "          0,   0,   0,  97, 252, 252,  87,   0,   0,   0,   0,   0,   0,\n",
              "          0,   0],\n",
              "       [  0,   0,   0,   0,   0,   0,   0,   0,  51, 240, 252, 123,  70,\n",
              "         70, 112, 184, 222, 252, 170,  13,   0,   0,   0,   0,   0,   0,\n",
              "          0,   0],\n",
              "       [  0,   0,   0,   0,   0,   0,   0,   0,   0, 165, 252, 253, 252,\n",
              "        252, 252, 252, 245, 139,  13,   0,   0,   0,   0,   0,   0,   0,\n",
              "          0,   0],\n",
              "       [  0,   0,   0,   0,   0,   0,   0,   0,   0,   9,  75, 253, 252,\n",
              "        221, 137, 137,  21,   0,   0,   0,   0,   0,   0,   0,   0,   0,\n",
              "          0,   0],\n",
              "       [  0,   0,   0,   0,   0,   0,   0,   0,   0,   0,   0,   0,   0,\n",
              "          0,   0,   0,   0,   0,   0,   0,   0,   0,   0,   0,   0,   0,\n",
              "          0,   0],\n",
              "       [  0,   0,   0,   0,   0,   0,   0,   0,   0,   0,   0,   0,   0,\n",
              "          0,   0,   0,   0,   0,   0,   0,   0,   0,   0,   0,   0,   0,\n",
              "          0,   0],\n",
              "       [  0,   0,   0,   0,   0,   0,   0,   0,   0,   0,   0,   0,   0,\n",
              "          0,   0,   0,   0,   0,   0,   0,   0,   0,   0,   0,   0,   0,\n",
              "          0,   0]], dtype=uint8)"
            ]
          },
          "metadata": {},
          "execution_count": 63
        }
      ]
    },
    {
      "cell_type": "code",
      "metadata": {
        "colab": {
          "base_uri": "https://localhost:8080/"
        },
        "id": "ismiOa5dx-i1",
        "outputId": "b59baaf7-f8d5-4506-cd7a-2afb684778a3"
      },
      "source": [
        "# What is the corresponding label in the training set?\n",
        "y_train[333]"
      ],
      "execution_count": null,
      "outputs": [
        {
          "output_type": "execute_result",
          "data": {
            "text/plain": [
              "8"
            ]
          },
          "metadata": {},
          "execution_count": 64
        }
      ]
    },
    {
      "cell_type": "code",
      "metadata": {
        "colab": {
          "base_uri": "https://localhost:8080/",
          "height": 282
        },
        "id": "S1w6Mjp8x-i1",
        "outputId": "d9c7c366-b600-4355-d4d9-796b4d7e1922"
      },
      "source": [
        "# Let's see what this image actually looks like\n",
        "\n",
        "plt.imshow(x_train[333], cmap='Greys_r')"
      ],
      "execution_count": null,
      "outputs": [
        {
          "output_type": "execute_result",
          "data": {
            "text/plain": [
              "<matplotlib.image.AxesImage at 0x7fe9fe7ca350>"
            ]
          },
          "metadata": {},
          "execution_count": 65
        },
        {
          "output_type": "display_data",
          "data": {
            "image/png": "[encoded data removed]",
            "text/plain": [
              "<Figure size 432x288 with 1 Axes>"
            ]
          },
          "metadata": {
            "needs_background": "light"
          }
        }
      ]
    },
    {
      "cell_type": "code",
      "metadata": {
        "colab": {
          "base_uri": "https://localhost:8080/"
        },
        "id": "gYsGw3Abx-i1",
        "outputId": "02094302-c229-4953-bd4a-a5d03fceace5"
      },
      "source": [
        "# this is the shape of the np.array x_train\n",
        "# it is 3 dimensional.\n",
        "print(x_train.shape, 'train samples')\n",
        "print(x_test.shape, 'test samples')"
      ],
      "execution_count": null,
      "outputs": [
        {
          "output_type": "stream",
          "name": "stdout",
          "text": [
            "(60000, 28, 28) train samples\n",
            "(10000, 28, 28) test samples\n"
          ]
        }
      ]
    },
    {
      "cell_type": "code",
      "metadata": {
        "id": "YJOI1rE0x-i1"
      },
      "source": [
        "## For our purposes, these images are just a vector of 784 inputs, so let's convert\n",
        "x_train = x_train.reshape(len(x_train), 28*28)\n",
        "x_test = x_test.reshape(len(x_test), 28*28)\n",
        "\n",
        "## Keras works with floats, so we must cast the numbers to floats\n",
        "x_train = x_train.astype('float32')\n",
        "x_test = x_test.astype('float32')\n",
        "\n",
        "## Normalize the inputs so they are between 0 and 1\n",
        "x_train /= 255\n",
        "x_test /= 255\n"
      ],
      "execution_count": null,
      "outputs": []
    },
    {
      "cell_type": "code",
      "metadata": {
        "colab": {
          "base_uri": "https://localhost:8080/"
        },
        "id": "O5_DS1b_x-i1",
        "outputId": "a400c59f-38b0-4030-c06b-8d65688fd568"
      },
      "source": [
        "# convert class vectors to binary class matrices\n",
        "num_classes = 10\n",
        "y_train = tf.keras.utils.to_categorical(y_train, num_classes)\n",
        "y_test = tf.keras.utils.to_categorical(y_test, num_classes)\n",
        "\n",
        "y_train[333]  # now the digit k is represented by a 1 in the kth entry (0-indexed) of the length 10 vector"
      ],
      "execution_count": null,
      "outputs": [
        {
          "output_type": "execute_result",
          "data": {
            "text/plain": [
              "array([0., 0., 0., 0., 0., 0., 0., 0., 1., 0.], dtype=float32)"
            ]
          },
          "metadata": {},
          "execution_count": 68
        }
      ]
    },
    {
      "cell_type": "code",
      "metadata": {
        "id": "7Hi11OgLx-i1"
      },
      "source": [
        "# We will build a model with two hidden layers of size 512\n",
        "# Fully connected inputs at each layer\n",
        "# We will use dropout of .5 to help regularize\n",
        "model_1 = Sequential()\n",
        "model_1.add(Dense(64, activation='relu', input_shape=(784,)))\n",
        "model_1.add(Dropout(0.5))\n",
        "model_1.add(Dense(64, activation='relu'))\n",
        "model_1.add(Dropout(0.5))\n",
        "model_1.add(Dense(10, activation='softmax'))"
      ],
      "execution_count": null,
      "outputs": []
    },
    {
      "cell_type": "code",
      "metadata": {
        "scrolled": true,
        "colab": {
          "base_uri": "https://localhost:8080/"
        },
        "id": "UeaU7ezqx-i2",
        "outputId": "30025ddc-89f4-4235-b543-d4808a776731"
      },
      "source": [
        "## Note that this model has a LOT of parameters\n",
        "model_1.summary()"
      ],
      "execution_count": null,
      "outputs": [
        {
          "output_type": "stream",
          "name": "stdout",
          "text": [
            "Model: \"sequential_23\"\n",
            "_________________________________________________________________\n",
            " Layer (type)                Output Shape              Param #   \n",
            "=================================================================\n",
            " dense_40 (Dense)            (None, 64)                50240     \n",
            "                                                                 \n",
            " dropout_2 (Dropout)         (None, 64)                0         \n",
            "                                                                 \n",
            " dense_41 (Dense)            (None, 64)                4160      \n",
            "                                                                 \n",
            " dropout_3 (Dropout)         (None, 64)                0         \n",
            "                                                                 \n",
            " dense_42 (Dense)            (None, 10)                650       \n",
            "                                                                 \n",
            "=================================================================\n",
            "Total params: 55,050\n",
            "Trainable params: 55,050\n",
            "Non-trainable params: 0\n",
            "_________________________________________________________________\n"
          ]
        }
      ]
    },
    {
      "cell_type": "code",
      "metadata": {
        "id": "ZQpoEWwex-i2"
      },
      "source": [
        "# Let's compile the model\n",
        "learning_rate = .001\n",
        "model_1.compile(loss='categorical_crossentropy',\n",
        "              optimizer=RMSprop(learning_rate=learning_rate),\n",
        "              metrics=['accuracy'])\n",
        "# note that `categorical cross entropy` is the natural generalization\n",
        "# of the loss function we had in binary classification case, to multi class case"
      ],
      "execution_count": null,
      "outputs": []
    },
    {
      "cell_type": "code",
      "metadata": {
        "colab": {
          "base_uri": "https://localhost:8080/"
        },
        "id": "RTNxnatHx-i2",
        "outputId": "09058a26-c9e7-40e2-e107-48fe8795c756"
      },
      "source": [
        "# And now let's fit.\n",
        "\n",
        "batch_size = 128  # mini-batch with 128 examples\n",
        "epochs = 30\n",
        "history = model_1.fit(\n",
        "    x_train, y_train,\n",
        "    batch_size=batch_size,\n",
        "    epochs=epochs,\n",
        "    verbose=1,\n",
        "    validation_data=(x_test, y_test))"
      ],
      "execution_count": null,
      "outputs": [
        {
          "output_type": "stream",
          "name": "stdout",
          "text": [
            "Epoch 1/30\n",
            "469/469 [==============================] - 2s 3ms/step - loss: 0.8844 - accuracy: 0.7202 - val_loss: 0.2805 - val_accuracy: 0.9191\n",
            "Epoch 2/30\n",
            "469/469 [==============================] - 1s 3ms/step - loss: 0.4848 - accuracy: 0.8601 - val_loss: 0.2346 - val_accuracy: 0.9314\n",
            "Epoch 3/30\n",
            "469/469 [==============================] - 1s 3ms/step - loss: 0.4191 - accuracy: 0.8812 - val_loss: 0.2146 - val_accuracy: 0.9376\n",
            "Epoch 4/30\n",
            "469/469 [==============================] - 1s 3ms/step - loss: 0.3793 - accuracy: 0.8921 - val_loss: 0.1938 - val_accuracy: 0.9469\n",
            "Epoch 5/30\n",
            "469/469 [==============================] - 1s 3ms/step - loss: 0.3621 - accuracy: 0.8985 - val_loss: 0.1898 - val_accuracy: 0.9455\n",
            "Epoch 6/30\n",
            "469/469 [==============================] - 1s 3ms/step - loss: 0.3456 - accuracy: 0.9044 - val_loss: 0.1870 - val_accuracy: 0.9489\n",
            "Epoch 7/30\n",
            "469/469 [==============================] - 1s 3ms/step - loss: 0.3353 - accuracy: 0.9082 - val_loss: 0.1709 - val_accuracy: 0.9539\n",
            "Epoch 8/30\n",
            "469/469 [==============================] - 1s 3ms/step - loss: 0.3211 - accuracy: 0.9115 - val_loss: 0.1725 - val_accuracy: 0.9533\n",
            "Epoch 9/30\n",
            "469/469 [==============================] - 1s 3ms/step - loss: 0.3213 - accuracy: 0.9125 - val_loss: 0.1699 - val_accuracy: 0.9552\n",
            "Epoch 10/30\n",
            "469/469 [==============================] - 1s 3ms/step - loss: 0.3143 - accuracy: 0.9147 - val_loss: 0.1731 - val_accuracy: 0.9559\n",
            "Epoch 11/30\n",
            "469/469 [==============================] - 1s 3ms/step - loss: 0.3067 - accuracy: 0.9168 - val_loss: 0.1695 - val_accuracy: 0.9562\n",
            "Epoch 12/30\n",
            "469/469 [==============================] - 1s 3ms/step - loss: 0.3048 - accuracy: 0.9178 - val_loss: 0.1699 - val_accuracy: 0.9573\n",
            "Epoch 13/30\n",
            "469/469 [==============================] - 1s 3ms/step - loss: 0.2989 - accuracy: 0.9195 - val_loss: 0.1627 - val_accuracy: 0.9594\n",
            "Epoch 14/30\n",
            "469/469 [==============================] - 1s 2ms/step - loss: 0.2978 - accuracy: 0.9186 - val_loss: 0.1705 - val_accuracy: 0.9593\n",
            "Epoch 15/30\n",
            "469/469 [==============================] - 1s 3ms/step - loss: 0.2986 - accuracy: 0.9215 - val_loss: 0.1725 - val_accuracy: 0.9592\n",
            "Epoch 16/30\n",
            "469/469 [==============================] - 1s 3ms/step - loss: 0.2983 - accuracy: 0.9199 - val_loss: 0.1682 - val_accuracy: 0.9578\n",
            "Epoch 17/30\n",
            "469/469 [==============================] - 1s 3ms/step - loss: 0.3012 - accuracy: 0.9212 - val_loss: 0.1675 - val_accuracy: 0.9595\n",
            "Epoch 18/30\n",
            "469/469 [==============================] - 1s 3ms/step - loss: 0.2932 - accuracy: 0.9213 - val_loss: 0.1766 - val_accuracy: 0.9598\n",
            "Epoch 19/30\n",
            "469/469 [==============================] - 1s 3ms/step - loss: 0.2922 - accuracy: 0.9217 - val_loss: 0.1762 - val_accuracy: 0.9601\n",
            "Epoch 20/30\n",
            "469/469 [==============================] - 1s 2ms/step - loss: 0.2916 - accuracy: 0.9230 - val_loss: 0.1874 - val_accuracy: 0.9589\n",
            "Epoch 21/30\n",
            "469/469 [==============================] - 1s 2ms/step - loss: 0.2998 - accuracy: 0.9215 - val_loss: 0.1688 - val_accuracy: 0.9608\n",
            "Epoch 22/30\n",
            "469/469 [==============================] - 1s 3ms/step - loss: 0.2949 - accuracy: 0.9221 - val_loss: 0.1737 - val_accuracy: 0.9624\n",
            "Epoch 23/30\n",
            "469/469 [==============================] - 1s 3ms/step - loss: 0.2943 - accuracy: 0.9213 - val_loss: 0.1756 - val_accuracy: 0.9596\n",
            "Epoch 24/30\n",
            "469/469 [==============================] - 1s 3ms/step - loss: 0.2894 - accuracy: 0.9237 - val_loss: 0.1789 - val_accuracy: 0.9626\n",
            "Epoch 25/30\n",
            "469/469 [==============================] - 1s 3ms/step - loss: 0.2859 - accuracy: 0.9239 - val_loss: 0.1871 - val_accuracy: 0.9594\n",
            "Epoch 26/30\n",
            "469/469 [==============================] - 1s 3ms/step - loss: 0.2865 - accuracy: 0.9246 - val_loss: 0.1856 - val_accuracy: 0.9599\n",
            "Epoch 27/30\n",
            "469/469 [==============================] - 1s 3ms/step - loss: 0.2947 - accuracy: 0.9241 - val_loss: 0.1890 - val_accuracy: 0.9608\n",
            "Epoch 28/30\n",
            "469/469 [==============================] - 1s 3ms/step - loss: 0.2922 - accuracy: 0.9237 - val_loss: 0.1838 - val_accuracy: 0.9606\n",
            "Epoch 29/30\n",
            "469/469 [==============================] - 1s 3ms/step - loss: 0.2837 - accuracy: 0.9237 - val_loss: 0.1900 - val_accuracy: 0.9608\n",
            "Epoch 30/30\n",
            "469/469 [==============================] - 1s 3ms/step - loss: 0.2917 - accuracy: 0.9250 - val_loss: 0.2002 - val_accuracy: 0.9610\n"
          ]
        }
      ]
    },
    {
      "cell_type": "code",
      "metadata": {
        "colab": {
          "base_uri": "https://localhost:8080/"
        },
        "id": "FvVUGskRx-i3",
        "outputId": "a14165f4-3e83-4c27-cb10-9a3c66d1d532"
      },
      "source": [
        "## We will use Keras evaluate function to evaluate performance on the test set\n",
        "\n",
        "score = model_1.evaluate(x_test, y_test, verbose=0)\n",
        "print('Test loss:', score[0])\n",
        "print('Test accuracy:', score[1])"
      ],
      "execution_count": null,
      "outputs": [
        {
          "output_type": "stream",
          "name": "stdout",
          "text": [
            "Test loss: 0.2002016305923462\n",
            "Test accuracy: 0.9610000252723694\n"
          ]
        }
      ]
    },
    {
      "cell_type": "code",
      "metadata": {
        "colab": {
          "base_uri": "https://localhost:8080/",
          "height": 390
        },
        "id": "VPI3N4GRx-i3",
        "outputId": "62376fa7-c89a-4733-fdcd-cc44026ebf10"
      },
      "source": [
        "def plot_loss_accuracy(history):\n",
        "    fig = plt.figure(figsize=(12, 6))\n",
        "    ax = fig.add_subplot(1, 2, 1)\n",
        "    ax.plot(history.history[\"loss\"],'r-x', label=\"Train Loss\")\n",
        "    ax.plot(history.history[\"val_loss\"],'b-x', label=\"Validation Loss\")\n",
        "    ax.legend()\n",
        "    ax.set_title('cross_entropy loss')\n",
        "    ax.grid(True)\n",
        "\n",
        "    ax = fig.add_subplot(1, 2, 2)\n",
        "    ax.plot(history.history[\"accuracy\"],'r-x', label=\"Train Accuracy\")\n",
        "    ax.plot(history.history[\"val_accuracy\"],'b-x', label=\"Validation Accuracy\")\n",
        "    ax.legend()\n",
        "    ax.set_title('accuracy')\n",
        "    ax.grid(True)\n",
        "\n",
        "plot_loss_accuracy(history)"
      ],
      "execution_count": null,
      "outputs": [
        {
          "output_type": "display_data",
          "data": {
            "image/png": "[encoded data removed]",
            "text/plain": [
              "<Figure size 864x432 with 2 Axes>"
            ]
          },
          "metadata": {
            "needs_background": "light"
          }
        }
      ]
    },
    {
      "cell_type": "markdown",
      "metadata": {
        "id": "2s2kCIVAx-i3"
      },
      "source": [
        "This is reasonably good performance, but we can do even better!  Next you will build an even bigger network and compare the performance."
      ]
    },
    {
      "cell_type": "markdown",
      "metadata": {
        "id": "XOFLazPNx-i3"
      },
      "source": [
        "### Keras Layers for CNNs\n",
        "- Previously we built Neural Networks using primarily the Dense, Activation and Dropout Layers.\n",
        "\n",
        "- Here we will describe how to use some of the CNN-specific layers provided by Keras\n",
        "\n",
        "#### Conv2D\n",
        "\n",
        "```python\n",
        "keras.layers.convolutional.Conv2D(filters, kernel_size, strides=(1, 1), padding='valid', data_format=None, dilation_rate=(1, 1), activation=None, use_bias=True, kernel_initializer='glorot_uniform', bias_initializer='zeros', kernel_regularizer=None, bias_regularizer=None, activity_regularizer=None, kernel_constraint=None, bias_constraint=None, **kwargs)\n",
        "```\n",
        "\n",
        "A few parameters explained:\n",
        "- `filters`: the number of filter used per location.  In other words, the depth of the output.\n",
        "- `kernel_size`: an (x,y) tuple giving the height and width of the kernel to be used\n",
        "- `strides`: and (x,y) tuple giving the stride in each dimension.  Default is `(1,1)`\n",
        "- `input_shape`: required only for the first layer\n",
        "\n",
        "Note, the size of the output will be determined by the kernel_size, strides\n",
        "\n",
        "#### MaxPooling2D\n",
        "`keras.layers.pooling.MaxPooling2D(pool_size=(2, 2), strides=None, padding='valid', data_format=None)`\n",
        "\n",
        "- `pool_size`: the (x,y) size of the grid to be pooled.\n",
        "- `strides`: Assumed to be the `pool_size` unless otherwise specified\n",
        "\n",
        "#### Flatten\n",
        "Turns its input into a one-dimensional vector (per instance).  Usually used when transitioning between convolutional layers and fully connected layers.\n"
      ]
    },
    {
      "cell_type": "markdown",
      "metadata": {
        "id": "U80TR5b2x-i3"
      },
      "source": [
        "# Exercise\n",
        "### Build your own CNN model\n",
        "Use the Keras \"Sequential\" functionality to build a convolutional neural network `model_2` with the following specifications:\n",
        "<br>\n",
        "<br>\n",
        "Model Architecture:<br>\n",
        "We will build the famous LeNet-5 architecutre and measure its performance.\n",
        "<br>\n",
        "    Convolution -> Relu -> Max pooling -> Convolution -> Relu -> Max pooling -> FC1 -> Relu -> FC2 -> Relu -> Output(SoftMax)\n",
        "<br>\n",
        "\n",
        "1. Convolution1 kernel size: 5(H) x 5(W) x 6(filters), stride = 1, no padding\n",
        "2. Max pooling1 kernel size: 2(H) x 2(W), stride = 2\n",
        "3. Convolution2 kernel size: 5(H) x 5(W) x 16(filters), stride = 1, no padding\n",
        "4. Max pooling2 kernel size: 2(H) x 2(W), stride = 2\n",
        "5. Fully Connected1 size: 120\n",
        "6. Fully Connected2 size: 84\n",
        "\n",
        "---\n",
        "\n",
        "\n",
        "7. Train this model for 20 epochs with RMSProp at a learning rate of .001 and a batch size of 128\n",
        "8. Plot the loss and accuracy graph for training the new model\n",
        "9. Evaluate the model on test data\n",
        "\n",
        "### Hints:\n",
        "<ul>\n",
        "  <li>You can match the model summary to the LeNet-5 diagram in your slides to verify your implmentation.\n",
        "<br>Slide: 07_Transfer_Learning -> Slide 27.\n",
        "<li>\n",
        "You will not be graded on the accuracy of your model but it should have a decent accuracy of at least 70%. Performance below 70% means there is something wrong with the implementation.\n",
        "<li> Check how to connect the output of Convolution layer with first Fully connected layer.\n",
        "<li> Do not use any padding or dropout in LeNet model, it can be used for Project Bonus / Fashion MNIST.\n",
        "    </li></ul>"
      ]
    },
    {
      "cell_type": "markdown",
      "metadata": {
        "id": "2ASP7cENx-i4"
      },
      "source": [
        "To use the LeNet model, we need to do some preprocessing on the data first."
      ]
    },
    {
      "cell_type": "code",
      "metadata": {
        "id": "PKIu3rx2x-i4",
        "colab": {
          "base_uri": "https://localhost:8080/"
        },
        "outputId": "bbfb7fe2-3ad1-4aa8-9813-0aaada244bd1"
      },
      "source": [
        "# Data is currently flattened i.e. m X 784, we need to reshape it back to 28 * 28. To do that we reshape the data.\n",
        "\n",
        "x_train = np.reshape(x_train, [-1, 28, 28])\n",
        "x_test = np.reshape(x_test, [-1, 28, 28])\n",
        "x_train.shape, x_test.shape"
      ],
      "execution_count": null,
      "outputs": [
        {
          "output_type": "execute_result",
          "data": {
            "text/plain": [
              "((60000, 28, 28), (10000, 28, 28))"
            ]
          },
          "metadata": {},
          "execution_count": 75
        }
      ]
    },
    {
      "cell_type": "code",
      "metadata": {
        "id": "XZzgcE67x-i4",
        "colab": {
          "base_uri": "https://localhost:8080/"
        },
        "outputId": "2d0289a1-b9c4-44be-b2f4-8f1e5552a277"
      },
      "source": [
        "# LeNet requires input of 32 X 32. So, we will pad the train and test images with zeros to increase the size to 32 X 32.\n",
        "\n",
        "x_train=np.pad(x_train, ((0,0), (2,2), (2, 2)), 'constant')\n",
        "x_test=np.pad(x_test, ((0,0), (2,2), (2, 2)), 'constant')\n",
        "x_train.shape, x_test.shape"
      ],
      "execution_count": null,
      "outputs": [
        {
          "output_type": "execute_result",
          "data": {
            "text/plain": [
              "((60000, 32, 32), (10000, 32, 32))"
            ]
          },
          "metadata": {},
          "execution_count": 76
        }
      ]
    },
    {
      "cell_type": "code",
      "metadata": {
        "id": "d3AYgmPNx-i4",
        "colab": {
          "base_uri": "https://localhost:8080/"
        },
        "outputId": "0da5860a-e1d2-4b42-fc56-fb87d6ac3e84"
      },
      "source": [
        "# Convolutional model requires input to be of 3 dimensions. We will add a channel dimension to it.\n",
        "\n",
        "x_train = np.reshape(x_train, [-1, 32, 32, 1])\n",
        "x_test = np.reshape(x_test, [-1, 32, 32, 1\n",
        "x_train.shape, x_test.shape"
      ],
      "execution_count": null,
      "outputs": [
        {
          "output_type": "execute_result",
          "data": {
            "text/plain": [
              "((60000, 32, 32, 1), (10000, 32, 32, 1))"
            ]
          },
          "metadata": {},
          "execution_count": 77
        }
      ]
    },
    {
      "cell_type": "markdown",
      "metadata": {
        "id": "emrURETzx-i4"
      },
      "source": [
        "Write your code below"
      ]
    },
    {
      "cell_type": "code",
      "metadata": {
        "id": "sNAdq8ksVXAb"
      },
      "source": [
        "model_2 = Sequential()\n",
        "model_2.add(keras.layers.convolutional.Conv2D(filters=6, kernel_size=(5,5), strides=1, padding='valid', data_format=None, dilation_rate=(1, 1), activation='relu', use_bias=True, kernel_initializer='glorot_uniform', bias_initializer='zeros', kernel_regularizer=None, bias_regularizer=None, activity_regularizer=None, kernel_constraint=None, bias_constraint=None))\n",
        "model_2.add(keras.layers.pooling.MaxPooling2D(pool_size=(2, 2), strides=2, padding='valid', data_format=None))\n",
        "model_2.add(keras.layers.convolutional.Conv2D(filters=16, kernel_size=(5,5), strides=1, padding='valid', data_format=None, dilation_rate=(1, 1), activation='relu', use_bias=True, kernel_initializer='glorot_uniform', bias_initializer='zeros', kernel_regularizer=None, bias_regularizer=None, activity_regularizer=None, kernel_constraint=None, bias_constraint=None))\n",
        "model_2.add(keras.layers.pooling.MaxPooling2D(pool_size=(2, 2), strides=2, padding='valid', data_format=None))\n",
        "model_2.add(keras.layers.Flatten())\n",
        "model_2.add(keras.layers.Dense(units=120, activation='relu'))\n",
        "model_2.add(keras.layers.Dense(units=84, activation='relu'))\n",
        "model_2.add(keras.layers.Dense(units=10, activation = 'softmax'))"
      ],
      "execution_count": null,
      "outputs": []
    },
    {
      "cell_type": "code",
      "metadata": {
        "colab": {
          "base_uri": "https://localhost:8080/"
        },
        "id": "B9P_kh_CzDVN",
        "outputId": "92f630f0-c244-493c-a3c1-8000124df56f"
      },
      "source": [
        "model_2.summary"
      ],
      "execution_count": null,
      "outputs": [
        {
          "output_type": "execute_result",
          "data": {
            "text/plain": [
              "<bound method Model.summary of <keras.engine.sequential.Sequential object at 0x7fe9fbe7f7d0>>"
            ]
          },
          "metadata": {},
          "execution_count": 101
        }
      ]
    },
    {
      "cell_type": "code",
      "metadata": {
        "id": "pSQ9TCN_iMUW"
      },
      "source": [
        "learning_rate = .001\n",
        "model_2.compile(loss='categorical_crossentropy', optimizer=RMSprop(learning_rate=learning_rate), metrics=['accuracy'])"
      ],
      "execution_count": null,
      "outputs": []
    },
    {
      "cell_type": "code",
      "metadata": {
        "colab": {
          "base_uri": "https://localhost:8080/"
        },
        "id": "zvFtXsQTjX7D",
        "outputId": "36107379-7813-43e8-9a34-10979ce8fa1f"
      },
      "source": [
        "history = model_2.fit(x_train, y_train, batch_size=128, epochs=20, verbose=1, validation_data=(x_test, y_test))"
      ],
      "execution_count": null,
      "outputs": [
        {
          "output_type": "stream",
          "name": "stdout",
          "text": [
            "Epoch 1/20\n",
            "469/469 [==============================] - 23s 47ms/step - loss: 0.2449 - accuracy: 0.9243 - val_loss: 0.0896 - val_accuracy: 0.9717\n",
            "Epoch 2/20\n",
            "469/469 [==============================] - 22s 47ms/step - loss: 0.0765 - accuracy: 0.9759 - val_loss: 0.0569 - val_accuracy: 0.9814\n",
            "Epoch 3/20\n",
            "469/469 [==============================] - 22s 47ms/step - loss: 0.0534 - accuracy: 0.9834 - val_loss: 0.0491 - val_accuracy: 0.9843\n",
            "Epoch 4/20\n",
            "469/469 [==============================] - 22s 47ms/step - loss: 0.0415 - accuracy: 0.9866 - val_loss: 0.0395 - val_accuracy: 0.9872\n",
            "Epoch 5/20\n",
            "469/469 [==============================] - 22s 47ms/step - loss: 0.0328 - accuracy: 0.9898 - val_loss: 0.0417 - val_accuracy: 0.9870\n",
            "Epoch 6/20\n",
            "469/469 [==============================] - 22s 47ms/step - loss: 0.0266 - accuracy: 0.9917 - val_loss: 0.0348 - val_accuracy: 0.9888\n",
            "Epoch 7/20\n",
            "469/469 [==============================] - 22s 47ms/step - loss: 0.0225 - accuracy: 0.9926 - val_loss: 0.0311 - val_accuracy: 0.9899\n",
            "Epoch 8/20\n",
            "469/469 [==============================] - 22s 47ms/step - loss: 0.0187 - accuracy: 0.9936 - val_loss: 0.0358 - val_accuracy: 0.9886\n",
            "Epoch 9/20\n",
            "469/469 [==============================] - 22s 47ms/step - loss: 0.0160 - accuracy: 0.9947 - val_loss: 0.0331 - val_accuracy: 0.9906\n",
            "Epoch 10/20\n",
            "469/469 [==============================] - 22s 47ms/step - loss: 0.0147 - accuracy: 0.9952 - val_loss: 0.0373 - val_accuracy: 0.9892\n",
            "Epoch 11/20\n",
            "469/469 [==============================] - 22s 47ms/step - loss: 0.0122 - accuracy: 0.9960 - val_loss: 0.0372 - val_accuracy: 0.9901\n",
            "Epoch 12/20\n",
            "469/469 [==============================] - 22s 47ms/step - loss: 0.0101 - accuracy: 0.9969 - val_loss: 0.0399 - val_accuracy: 0.9905\n",
            "Epoch 13/20\n",
            "469/469 [==============================] - 22s 47ms/step - loss: 0.0089 - accuracy: 0.9971 - val_loss: 0.0455 - val_accuracy: 0.9901\n",
            "Epoch 14/20\n",
            "469/469 [==============================] - 22s 47ms/step - loss: 0.0082 - accuracy: 0.9969 - val_loss: 0.0454 - val_accuracy: 0.9905\n",
            "Epoch 15/20\n",
            "469/469 [==============================] - 22s 47ms/step - loss: 0.0071 - accuracy: 0.9978 - val_loss: 0.0545 - val_accuracy: 0.9899\n",
            "Epoch 16/20\n",
            "469/469 [==============================] - 22s 47ms/step - loss: 0.0065 - accuracy: 0.9980 - val_loss: 0.0487 - val_accuracy: 0.9902\n",
            "Epoch 17/20\n",
            "469/469 [==============================] - 22s 47ms/step - loss: 0.0060 - accuracy: 0.9981 - val_loss: 0.0590 - val_accuracy: 0.9894\n",
            "Epoch 18/20\n",
            "469/469 [==============================] - 22s 47ms/step - loss: 0.0053 - accuracy: 0.9982 - val_loss: 0.0622 - val_accuracy: 0.9887\n",
            "Epoch 19/20\n",
            "469/469 [==============================] - 22s 47ms/step - loss: 0.0051 - accuracy: 0.9985 - val_loss: 0.0605 - val_accuracy: 0.9899\n",
            "Epoch 20/20\n",
            "469/469 [==============================] - 22s 47ms/step - loss: 0.0048 - accuracy: 0.9984 - val_loss: 0.0725 - val_accuracy: 0.9887\n"
          ]
        }
      ]
    },
    {
      "cell_type": "code",
      "metadata": {
        "colab": {
          "base_uri": "https://localhost:8080/"
        },
        "id": "huH2pA7Ko3Ra",
        "outputId": "137b2a72-45d8-4035-a76a-6dc07a6be9bf"
      },
      "source": [
        "score = model_2.evaluate(x_test, y_test, verbose=0)\n",
        "print('Test loss:', score[0])\n",
        "print('Test accuracy:', score[1])"
      ],
      "execution_count": null,
      "outputs": [
        {
          "output_type": "stream",
          "name": "stdout",
          "text": [
            "Test loss: 0.07254528254270554\n",
            "Test accuracy: 0.9886999726295471\n"
          ]
        }
      ]
    },
    {
      "cell_type": "code",
      "metadata": {
        "colab": {
          "base_uri": "https://localhost:8080/",
          "height": 390
        },
        "id": "FjZM1U5FpLRA",
        "outputId": "591acabb-3f26-438f-8d8f-c3c660d1b5a2"
      },
      "source": [
        "def plot_loss_accuracy(history):\n",
        "    fig = plt.figure(figsize=(12, 6))\n",
        "    ax = fig.add_subplot(1, 2, 1)\n",
        "    ax.plot(history.history[\"loss\"],'r-x', label=\"Train Loss\")\n",
        "    ax.plot(history.history[\"val_loss\"],'b-x', label=\"Validation Loss\")\n",
        "    ax.legend()\n",
        "    ax.set_title('cross_entropy loss')\n",
        "    ax.grid(True)\n",
        "\n",
        "    ax = fig.add_subplot(1, 2, 2)\n",
        "    ax.plot(history.history[\"accuracy\"],'r-x', label=\"Train Accuracy\")\n",
        "    ax.plot(history.history[\"val_accuracy\"],'b-x', label=\"Validation Accuracy\")\n",
        "    ax.legend()\n",
        "    ax.set_title('accuracy')\n",
        "    ax.grid(True)\n",
        "\n",
        "plot_loss_accuracy(history)"
      ],
      "execution_count": null,
      "outputs": [
        {
          "output_type": "display_data",
          "data": {
            "image/png": "[encoded data removed]",
            "text/plain": [
              "<Figure size 864x432 with 2 Axes>"
            ]
          },
          "metadata": {
            "needs_background": "light"
          }
        }
      ]
    },
    {
      "cell_type": "markdown",
      "metadata": {
        "id": "6PqlQStkU6lU"
      },
      "source": []
    },
    {
      "cell_type": "markdown",
      "metadata": {
        "collapsed": true,
        "id": "UDBDIdyLx-i4"
      },
      "source": [
        "## Answer following questions\n",
        "\n",
        "1) How do model_1 and model_2 compare?  Which do you prefer?  If you were going to put one into production, which would you choose and why?\n",
        "\n",
        "2) Compare the trajectories of the loss function on the training set and test set for each model?  How do they compare?  What does that suggest about each model?  Do the same for accuracy?  Which do you think is more meaningful, the loss or the accuracy?"
      ]
    },
    {
      "cell_type": "code",
      "metadata": {
        "id": "_wJDfJFDx-i4"
      },
      "source": [],
      "execution_count": null,
      "outputs": []
    },
    {
      "cell_type": "code",
      "metadata": {
        "id": "COTxQZNKx-i4"
      },
      "source": [],
      "execution_count": null,
      "outputs": []
    },
    {
      "cell_type": "markdown",
      "metadata": {
        "id": "IGfkDmxgx-i4"
      },
      "source": [
        "# Fashion MNIST\n",
        "We will do the similar things for Fashion MNIST dataset. Fashion MNIST has 10 categories of clothing items:<br>\n",
        "\n",
        "| Label | Description |\n",
        "| --- | --- |\n",
        "| 0 | T-shirt/top |\n",
        "| 1 | Trouser |\n",
        "| 2 | Pullover |\n",
        "| 3 | Dress |\n",
        "| 4 | Coat |\n",
        "| 5 | Sandal |\n",
        "| 6 | Shirt |\n",
        "| 7 | Sneaker |\n",
        "| 8 | Bag |\n",
        "| 9 | Ankle boot |"
      ]
    },
    {
      "cell_type": "code",
      "metadata": {
        "id": "OiaIMsAfx-i4"
      },
      "source": [
        "# Load the data, shuffled and split between train and test sets\n",
        "(x_train, y_train), (x_test, y_test) = fashion_mnist.load_data()"
      ],
      "execution_count": null,
      "outputs": []
    },
    {
      "cell_type": "code",
      "metadata": {
        "id": "9_0ErEVQx-i4",
        "colab": {
          "base_uri": "https://localhost:8080/"
        },
        "outputId": "987521a0-7c72-4b6d-cc39-a171ce77c7d7"
      },
      "source": [
        "x_train[0].shape"
      ],
      "execution_count": null,
      "outputs": [
        {
          "output_type": "execute_result",
          "data": {
            "text/plain": [
              "(28, 28)"
            ]
          },
          "metadata": {},
          "execution_count": 85
        }
      ]
    },
    {
      "cell_type": "code",
      "metadata": {
        "id": "be_oFzK6x-i4",
        "colab": {
          "base_uri": "https://localhost:8080/"
        },
        "outputId": "70944597-2a61-4944-d74c-a477a76c0760"
      },
      "source": [
        "#Let's just look at a particular example to see what is inside\n",
        "\n",
        "x_train[333]  ## Just a 28 x 28 numpy array of ints from 0 to 255"
      ],
      "execution_count": null,
      "outputs": [
        {
          "output_type": "execute_result",
          "data": {
            "text/plain": [
              "array([[  0,   0,   0,   0,   0,   0,   0,   0,   0,   0,   0,   3,   0,\n",
              "         42,  92,  71, 107,  33,   0,   3,   0,   1,   0,   0,   0,   0,\n",
              "          0,   0],\n",
              "       [  0,   0,   0,   0,   0,   0,   0,   0,   0,   0,   2,   0,  23,\n",
              "        145,   0,   0,   0, 113,  20,   0,   3,   0,   0,   0,   0,   0,\n",
              "          0,   0],\n",
              "       [  0,   0,   0,   0,   0,   0,   0,   0,   0,   0,   0,   0,  89,\n",
              "          8,   0,  10,   0,  36, 104,   0,   2,   0,   0,   0,   0,   0,\n",
              "          0,   0],\n",
              "       [  0,   0,   0,   0,   0,   0,   0,   0,   0,   3,   0,  37,  97,\n",
              "          0,   5,   1,   0,   0, 141,  23,   0,   2,   0,   0,   0,   0,\n",
              "          0,   0],\n",
              "       [  0,   0,   0,   0,   0,   0,   0,   0,   0,   5,   0,  70,  75,\n",
              "          0,   6,   1,   0,   0, 141,  56,   0,   5,   0,   0,   0,   0,\n",
              "          0,   0],\n",
              "       [  0,   0,   0,   0,   0,   0,   0,   0,   0,   6,   0,  85,  57,\n",
              "          0,   5,   1,   1,   0, 126,  62,   0,   6,   0,   0,   0,   0,\n",
              "          0,   0],\n",
              "       [  0,   0,   0,   0,   0,   0,   0,   0,   0,   6,   0,  85,  44,\n",
              "          0,   3,   0,   4,   0, 109,  66,   0,   6,   0,   0,   0,   0,\n",
              "          0,   0],\n",
              "       [  0,   0,   0,   0,   0,   0,   0,   0,   0,   6,   0,  75,  41,\n",
              "          0,   3,   0,   5,   0,  89,  68,   0,   6,   0,   0,   0,   0,\n",
              "          0,   0],\n",
              "       [  0,   0,   0,   0,   0,   0,   0,   0,   0,   5,   0,  71,  44,\n",
              "          0,   3,   0,   6,   0,  74,  69,   0,   6,   0,   0,   0,   0,\n",
              "          0,   0],\n",
              "       [  0,   0,   0,   0,   0,   0,   0,   0,   0,   4,   0,  80,  68,\n",
              "          0,   4,   0,   5,   0,  89,  85,   0,   6,   0,   0,   0,   0,\n",
              "          0,   0],\n",
              "       [  0,   0,   0,   0,   0,   0,   0,   2,   3,   8,   0,  74,  89,\n",
              "          0,  10,   3,  10,   0,  98,  84,   0,  10,   4,   3,   0,   0,\n",
              "          0,   0],\n",
              "       [  0,   0,   0,   0,   0,   0,   0,   0,   0,   0,   0,  30,  80,\n",
              "          0,   0,   0,   0,   0,  69,  37,   0,   0,   0,   0,   0,   0,\n",
              "          0,   0],\n",
              "       [  0,   0,   0,   0,   0,   2,   0,  80, 117, 118,  92, 125, 144,\n",
              "        109, 141, 126, 132, 115, 151, 141, 130, 142, 150,  57,   0,   0,\n",
              "          0,   0],\n",
              "       [  0,   0,   0,   0,   0,   0,   0,  81, 162, 158, 153, 165, 192,\n",
              "        182, 196, 187, 172, 183, 203, 206, 195, 188, 200, 140,   0,   0,\n",
              "          0,   0],\n",
              "       [  0,   0,   0,   0,   0,   0,   0, 114, 158, 169, 164, 164, 196,\n",
              "        183, 177, 168, 163, 174, 195, 198, 195, 174, 170, 142,   0,   0,\n",
              "          0,   0],\n",
              "       [  0,   0,   0,   0,   0,   0,   0, 186, 166, 161, 180, 183, 214,\n",
              "        181, 158, 163, 181, 186, 197, 186, 184, 193, 197,  86,   0,   0,\n",
              "          0,   0],\n",
              "       [  0,   0,   0,   0,   0,   0,   0, 162, 195, 185, 182, 186, 186,\n",
              "        186, 193, 194, 194, 196, 195, 195, 192, 184, 215, 161,   0,   0,\n",
              "          0,   0],\n",
              "       [  0,   0,   0,   0,   0,   0,   0, 165, 233, 219, 230, 235, 230,\n",
              "        228, 229, 229, 221, 218, 217, 215, 212, 204, 221, 160,   0,   0,\n",
              "          0,   0],\n",
              "       [  0,   0,   0,   0,   0,   0, 134, 202, 221, 218, 220, 224, 222,\n",
              "        220, 219, 221, 219, 213, 213, 208, 208, 199, 220, 142,   0,   0,\n",
              "          0,   0],\n",
              "       [  0,   0,   0,   0,   0,  92, 213, 205, 233, 217, 226, 225, 226,\n",
              "        222, 220, 219, 219, 217, 214, 212, 209, 195, 231, 126,   0,   0,\n",
              "          0,   0],\n",
              "       [  0,   0,   0,   0,   0, 120,   0, 187, 247, 221, 224, 225, 222,\n",
              "        218, 219, 219, 219, 216, 214, 212, 210, 197, 246, 130,   0,   0,\n",
              "          0,   0],\n",
              "       [  0,   0,   0,   0,   0,   0,   0, 206, 243, 231, 228, 230, 228,\n",
              "        225, 226, 225, 222, 217, 215, 215, 211, 212, 255, 126,   0,   0,\n",
              "          0,   0],\n",
              "       [  0,   0,   0,   0,   0,  68,   0, 149, 244, 227, 229, 235, 229,\n",
              "        228, 227, 216, 212, 211, 211, 211, 209, 214, 233, 120,   0,   0,\n",
              "          0,   0],\n",
              "       [  0,   0,   0,   0,   0, 117, 124, 151, 242, 232, 238, 237, 232,\n",
              "        230, 226, 216, 213, 215, 211, 208, 206, 214, 232, 114,   0,   0,\n",
              "          0,   0],\n",
              "       [  0,   0,   0,   0,   0,   0, 138, 225, 213, 218, 231, 234, 234,\n",
              "        237, 227, 199, 204, 213, 208, 204, 203, 214, 231, 112,   0,   0,\n",
              "          0,   0],\n",
              "       [  0,   0,   0,   0,   0,   0,  19, 222, 218, 214, 206, 208, 220,\n",
              "        228, 224, 222, 224, 220, 220, 220, 221, 226, 237, 132,   0,   0,\n",
              "          0,   0],\n",
              "       [  0,   0,   0,   0,   0,   0,  56, 211, 230, 229, 227, 197, 173,\n",
              "        193, 240,  50,  50,  58,  55,  56,  59,  57,  70,  11,   0,   0,\n",
              "          0,   0],\n",
              "       [  0,   0,   0,   0,   0,   0,   0,   0,  94, 157, 193, 222, 219,\n",
              "        205, 140,   0,   0,   0,   0,   0,   0,   0,   0,   0,   0,   0,\n",
              "          0,   0]], dtype=uint8)"
            ]
          },
          "metadata": {},
          "execution_count": 86
        }
      ]
    },
    {
      "cell_type": "code",
      "metadata": {
        "id": "FDdLzWPux-i4",
        "colab": {
          "base_uri": "https://localhost:8080/"
        },
        "outputId": "963a6c4e-339f-4a6a-d3fd-75481f69ba6d"
      },
      "source": [
        "# What is the corresponding label in the training set?\n",
        "y_train[333]"
      ],
      "execution_count": null,
      "outputs": [
        {
          "output_type": "execute_result",
          "data": {
            "text/plain": [
              "8"
            ]
          },
          "metadata": {},
          "execution_count": 87
        }
      ]
    },
    {
      "cell_type": "code",
      "metadata": {
        "id": "FvwNsPR8x-i5",
        "colab": {
          "base_uri": "https://localhost:8080/",
          "height": 282
        },
        "outputId": "328898d1-745a-45be-8fea-f748603f3d9e"
      },
      "source": [
        "# Let's see what this image actually looks like\n",
        "\n",
        "plt.imshow(x_train[333], cmap='Greys_r')"
      ],
      "execution_count": null,
      "outputs": [
        {
          "output_type": "execute_result",
          "data": {
            "text/plain": [
              "<matplotlib.image.AxesImage at 0x7fe9fbf11750>"
            ]
          },
          "metadata": {},
          "execution_count": 88
        },
        {
          "output_type": "display_data",
          "data": {
            "image/png": "[encoded data removed]",
            "text/plain": [
              "<Figure size 432x288 with 1 Axes>"
            ]
          },
          "metadata": {
            "needs_background": "light"
          }
        }
      ]
    },
    {
      "cell_type": "code",
      "metadata": {
        "id": "74TCB4qux-i5",
        "colab": {
          "base_uri": "https://localhost:8080/"
        },
        "outputId": "c7002f07-7780-4d85-9f80-bf38c043bb7b"
      },
      "source": [
        "# this is the shape of the np.array x_train\n",
        "# it is 3 dimensional.\n",
        "print(x_train.shape, 'train samples')\n",
        "print(x_test.shape, 'test samples')"
      ],
      "execution_count": null,
      "outputs": [
        {
          "output_type": "stream",
          "name": "stdout",
          "text": [
            "(60000, 28, 28) train samples\n",
            "(10000, 28, 28) test samples\n"
          ]
        }
      ]
    },
    {
      "cell_type": "code",
      "metadata": {
        "id": "dhHYkxi_x-i5"
      },
      "source": [
        "## For our purposes, these images are just a vector of 784 inputs, so let's convert\n",
        "x_train = x_train.reshape(len(x_train), 28*28)\n",
        "x_test = x_test.reshape(len(x_test), 28*28)\n",
        "\n",
        "## Keras works with floats, so we must cast the numbers to floats\n",
        "x_train = x_train.astype('float32')\n",
        "x_test = x_test.astype('float32')\n",
        "\n",
        "## Normalize the inputs so they are between 0 and 1\n",
        "x_train /= 255\n",
        "x_test /= 255"
      ],
      "execution_count": null,
      "outputs": []
    },
    {
      "cell_type": "code",
      "metadata": {
        "id": "X0bmd22Hx-i5",
        "colab": {
          "base_uri": "https://localhost:8080/"
        },
        "outputId": "f83aed2d-3793-404c-eb47-cb94717600df"
      },
      "source": [
        "# convert class vectors to binary class matrices\n",
        "num_classes = 10\n",
        "y_train = tf.keras.utils.to_categorical(y_train, num_classes)\n",
        "y_test = tf.keras.utils.to_categorical(y_test, num_classes)\n",
        "\n",
        "y_train[333]"
      ],
      "execution_count": null,
      "outputs": [
        {
          "output_type": "execute_result",
          "data": {
            "text/plain": [
              "array([0., 0., 0., 0., 0., 0., 0., 0., 1., 0.], dtype=float32)"
            ]
          },
          "metadata": {},
          "execution_count": 91
        }
      ]
    },
    {
      "cell_type": "markdown",
      "metadata": {
        "id": "5uz-0YsVx-i5"
      },
      "source": [
        "## Reperforming the earlier preprocessing methods"
      ]
    },
    {
      "cell_type": "code",
      "metadata": {
        "id": "ppoRektwx-i5",
        "colab": {
          "base_uri": "https://localhost:8080/"
        },
        "outputId": "e20338da-ed2b-4505-fe3e-652186d6d2c2"
      },
      "source": [
        "# Data is currently flattened i.e. m X 784, we need to reshape it back to 28 * 28. To do that we reshape the data.\n",
        "\n",
        "x_train = np.reshape(x_train, [-1, 28, 28])\n",
        "x_test = np.reshape(x_test, [-1, 28, 28])\n",
        "x_train.shape, x_test.shape"
      ],
      "execution_count": null,
      "outputs": [
        {
          "output_type": "execute_result",
          "data": {
            "text/plain": [
              "((60000, 28, 28), (10000, 28, 28))"
            ]
          },
          "metadata": {},
          "execution_count": 92
        }
      ]
    },
    {
      "cell_type": "code",
      "metadata": {
        "id": "1DpighSFx-i6",
        "colab": {
          "base_uri": "https://localhost:8080/"
        },
        "outputId": "af0de4ac-a2b7-4687-be91-8bf1f799b12f"
      },
      "source": [
        "# LeNet requires input of 32 X 32. So, we will pad the train and test images with zeros to increase the size to 32 X 32.\n",
        "\n",
        "x_train=np.pad(x_train, ((0,0), (2,2), (2, 2)), 'constant')\n",
        "x_test=np.pad(x_test, ((0,0), (2,2), (2, 2)), 'constant')\n",
        "x_train.shape, x_test.shape"
      ],
      "execution_count": null,
      "outputs": [
        {
          "output_type": "execute_result",
          "data": {
            "text/plain": [
              "((60000, 32, 32), (10000, 32, 32))"
            ]
          },
          "metadata": {},
          "execution_count": 93
        }
      ]
    },
    {
      "cell_type": "code",
      "metadata": {
        "id": "9YWoreqmx-i6",
        "colab": {
          "base_uri": "https://localhost:8080/"
        },
        "outputId": "a168b0fd-0ce5-48da-dd32-b04fe76882ca"
      },
      "source": [
        "# Convolutional model requires input to be of 3 dimensions. We will add a channel dimension to it.\n",
        "\n",
        "x_train = np.reshape(x_train, [-1, 32, 32, 1])\n",
        "x_test = np.reshape(x_test, [-1, 32, 32, 1])\n",
        "x_train.shape, x_test.shape"
      ],
      "execution_count": null,
      "outputs": [
        {
          "output_type": "execute_result",
          "data": {
            "text/plain": [
              "((60000, 32, 32, 1), (10000, 32, 32, 1))"
            ]
          },
          "metadata": {},
          "execution_count": 94
        }
      ]
    },
    {
      "cell_type": "markdown",
      "metadata": {
        "id": "VAlEfW41x-i6"
      },
      "source": [
        "Build a similar convolutional model with a differnet structure, learning rate or number of epochs, etc. that you think will result in a good model for this dataset. Report the accuracy on test dataset."
      ]
    },
    {
      "cell_type": "code",
      "metadata": {
        "id": "ZpJmXlfdx-i6"
      },
      "source": [
        "model_3 = keras.Sequential()\n",
        "model_3.add(keras.layers.convolutional.Conv2D(filters=6, kernel_size=(5,5), strides=1, padding='valid', data_format=None, dilation_rate=(1, 1), activation='relu', use_bias=True, kernel_initializer='glorot_uniform', bias_initializer='zeros', kernel_regularizer=None, bias_regularizer=None, activity_regularizer=None, kernel_constraint=None, bias_constraint=None))\n",
        "model_3.add(keras.layers.pooling.MaxPooling2D(pool_size=(2, 2), strides=2, padding='valid', data_format=None))\n",
        "model_3.add(keras.layers.convolutional.Conv2D(filters=16, kernel_size=(5,5), strides=1, padding='valid', data_format=None, dilation_rate=(1, 1), activation='relu', use_bias=True, kernel_initializer='glorot_uniform', bias_initializer='zeros', kernel_regularizer=None, bias_regularizer=None, activity_regularizer=None, kernel_constraint=None, bias_constraint=None))\n",
        "model_3.add(keras.layers.pooling.MaxPooling2D(pool_size=(2, 2), strides=2, padding='valid', data_format=None))\n",
        "model_3.add(keras.layers.Flatten())\n",
        "model_3.add(keras.layers.Dense(units=120, activation='relu'))\n",
        "model_3.add(keras.layers.Dense(units=84, activation='relu'))\n",
        "model_3.add(keras.layers.Dense(units=10, activation = 'softmax'))\n",
        "\n"
      ],
      "execution_count": null,
      "outputs": []
    },
    {
      "cell_type": "code",
      "metadata": {
        "id": "xA2HLAaNx-i6"
      },
      "source": [
        "learning_rate = .001\n",
        "model_3.compile(loss='categorical_crossentropy', optimizer=RMSprop(learning_rate=learn))\n",
        "history = model_3.fit(x_train, y_train, batch_size=128, epochs=20, verbose=1, validation)\n",
        "score = model_3.evaluate(x_test, y_test, verbose=0)"
      ],
      "execution_count": null,
      "outputs": []
    },
    {
      "cell_type": "code",
      "source": [
        "def plot_loss_accuracy(history):\n",
        "    fig = plt.figure(figsize=(12, 6))\n",
        "    ax = fig.add_subplot(1, 2, 1)\n",
        "    ax.plot(history.history[\"loss\"],'r-x', label=\"Train Loss\")\n",
        "    ax.plot(history.history[\"val_loss\"],'b-x', label=\"Validation Loss\")\n",
        "    ax.legend()\n",
        "    ax.set_title('cross_entropy loss')\n",
        "    ax.grid(True)\n",
        "    ax = fig.add_subplot(1, 2, 2)\n",
        "    ax.plot(history.history[\"accuracy\"],'r-x', label=\"Train Accuracy\")\n",
        "    ax.plot(history.history[\"val_accuracy\"],'b-x', label=\"Validation Accuracy\")\n",
        "    ax.legend()\n",
        "    ax.set_title('accuracy')\n",
        "    ax.grid(True)\n",
        "\n",
        "plot_loss_accuracy(history)"
      ],
      "metadata": {
        "id": "eqP1rTJx3n-D"
      },
      "execution_count": null,
      "outputs": []
    }
  ]
}